{
 "cells": [
  {
   "cell_type": "markdown",
   "metadata": {},
   "source": [
    "# Image Process"
   ]
  },
  {
   "cell_type": "code",
   "execution_count": 14,
   "metadata": {},
   "outputs": [],
   "source": [
    "import pathlib\n",
    "import shutil\n",
    "from PIL import Image\n",
    "import os"
   ]
  },
  {
   "cell_type": "markdown",
   "metadata": {},
   "source": [
    "### Helper function"
   ]
  },
  {
   "cell_type": "code",
   "execution_count": 15,
   "metadata": {},
   "outputs": [],
   "source": [
    "def change_file_extention(file, to_suffix):\n",
    "    st = pathlib.PurePath(file).stem\n",
    "    to_file = st + to_suffix\n",
    "\n",
    "    from_file_path = os.path.join(\"./dataset/images/\", file)\n",
    "    to_file_path = os.path.join(\"./dataset/images/\", to_file)\n",
    "\n",
    "    shutil.move(from_file_path, to_file_path)\n",
    "\n",
    "\n",
    "def resize_image(img_path, IMAGE_WIDTH=1980, IMAGE_HEIGHT=1080):\n",
    "    for image in img_path:\n",
    "        img = Image.open(image)\n",
    "\n",
    "        img_resize = img.resize((IMAGE_WIDTH, IMAGE_HEIGHT))\n",
    "        img_resize.save(f'{image}', quality=90)\n",
    "\n",
    "\n",
    "# 画像量産\n",
    "def increase_image(image, degree=5, step=5):\n",
    "    img_name = pathlib.PurePath(image).stem\n",
    "    img = Image.open(image)\n",
    "\n",
    "    for x in range(degree, 360, step):\n",
    "        img = img.copy()\n",
    "        rotate_img = img.rotate(x)\n",
    "        rotate_img.save(f'./dataset/images/{img_name}_{x}.png')"
   ]
  },
  {
   "cell_type": "markdown",
   "metadata": {},
   "source": [
    "### change file extention\n",
    "\n",
    ".jpg $\\rightarrow$ .png"
   ]
  },
  {
   "cell_type": "code",
   "execution_count": 10,
   "metadata": {},
   "outputs": [],
   "source": [
    "path = \"./dataset/images/\"\n",
    "files = os.listdir(path)\n",
    "\n",
    "for file in files:\n",
    "    sf = pathlib.PurePath(file).suffix\n",
    "    if sf in ['.JPG', '.jpeg', '.jpg']:\n",
    "        change_file_extention(file, '.png')\n",
    "    else:\n",
    "        pass"
   ]
  },
  {
   "cell_type": "markdown",
   "metadata": {},
   "source": [
    "### Resize image\n",
    "\n",
    "デフォルトでFHDのサイズにしてある"
   ]
  },
  {
   "cell_type": "code",
   "execution_count": 12,
   "metadata": {},
   "outputs": [],
   "source": [
    "files = os.listdir(path)\n",
    "img_path = [path + file for file in files]\n",
    "\n",
    "# 使うときにコメントを外してください\n",
    "resize_image(img_path)\n"
   ]
  },
  {
   "cell_type": "markdown",
   "metadata": {},
   "source": [
    "### Split train test data"
   ]
  },
  {
   "cell_type": "code",
   "execution_count": 5,
   "metadata": {},
   "outputs": [],
   "source": [
    "import glob\n",
    "import shutil\n",
    "import os\n",
    "import random\n",
    "\n",
    "img_path = './dataset/images/'\n",
    "mask_img_path = './dataset/masks/'\n",
    "train_img_path = './train/images/'\n",
    "train_mask_path = './train/masks/'\n",
    "test_img_path = './val/images/'\n",
    "test_mask_path = './val/masks/'\n",
    "\n",
    "try:\n",
    "    os.makedirs(train_img_path)\n",
    "    os.makedirs(train_mask_path)\n",
    "    os.makedirs(test_img_path)\n",
    "    os.makedirs(test_mask_path)\n",
    "except:\n",
    "    pass\n",
    "\n",
    "# この部分は後で関数として処理するべき\n",
    "images = os.listdir(img_path)\n",
    "images = [f for f in images if os.path.isfile(os.path.join(mask_img_path, f))]\n",
    "\n",
    "\n",
    "mask_imgs = os.listdir(mask_img_path)\n",
    "mask_imgs = [f for f in mask_imgs if os.path.isfile(os.path.join(mask_img_path, f))]\n",
    "\n",
    "image_num = len(images)\n",
    "test_img_size = int(image_num * 0.3)\n",
    "\n",
    "try:\n",
    "    for i in range(test_img_size):\n",
    "        num = random.randint(0, image_num)\n",
    "        shutil.move(os.path.join(img_path, images[num]), os.path.join(test_img_path, images[num]))\n",
    "        shutil.move(os.path.join(mask_img_path, mask_imgs[num]), os.path.join(test_mask_path, mask_imgs[num]))\n",
    "        images.remove(images[num])\n",
    "        mask_imgs.remove(mask_imgs[num])\n",
    "        image_num -= 1\n",
    "except:\n",
    "    pass"
   ]
  },
  {
   "cell_type": "code",
   "execution_count": 6,
   "metadata": {},
   "outputs": [],
   "source": [
    "for i in range(len(images)):\n",
    "    shutil.move(os.path.join(img_path, images[i]), os.path.join(train_img_path, images[i]))\n",
    "    shutil.move(os.path.join(mask_img_path, mask_imgs[i]), os.path.join(train_mask_path, mask_imgs[i]))"
   ]
  },
  {
   "cell_type": "code",
   "execution_count": null,
   "metadata": {},
   "outputs": [],
   "source": []
  }
 ],
 "metadata": {
  "kernelspec": {
   "display_name": "Python 3.9.5 64-bit",
   "language": "python",
   "name": "python3"
  },
  "language_info": {
   "codemirror_mode": {
    "name": "ipython",
    "version": 3
   },
   "file_extension": ".py",
   "mimetype": "text/x-python",
   "name": "python",
   "nbconvert_exporter": "python",
   "pygments_lexer": "ipython3",
   "version": "3.9.5"
  },
  "orig_nbformat": 4,
  "vscode": {
   "interpreter": {
    "hash": "37cba68cc0666ff0500346fbbc272670c42c6c1b2383619b4dcb2ba70df940d7"
   }
  }
 },
 "nbformat": 4,
 "nbformat_minor": 2
}
